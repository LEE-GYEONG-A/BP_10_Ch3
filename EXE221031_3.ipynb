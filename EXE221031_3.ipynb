{
  "nbformat": 4,
  "nbformat_minor": 0,
  "metadata": {
    "colab": {
      "provenance": [],
      "collapsed_sections": [],
      "authorship_tag": "ABX9TyMAvqWQ8yu6XYj0yNnKERYJ",
      "include_colab_link": true
    },
    "kernelspec": {
      "name": "python3",
      "display_name": "Python 3"
    },
    "language_info": {
      "name": "python"
    }
  },
  "cells": [
    {
      "cell_type": "markdown",
      "metadata": {
        "id": "view-in-github",
        "colab_type": "text"
      },
      "source": [
        "<a href=\"https://colab.research.google.com/github/LEE-GYEONG-A/BP_10_Ch3/blob/main/EXE221031_3.ipynb\" target=\"_parent\"><img src=\"https://colab.research.google.com/assets/colab-badge.svg\" alt=\"Open In Colab\"/></a>"
      ]
    },
    {
      "cell_type": "code",
      "execution_count": null,
      "metadata": {
        "id": "UiOVMWv_0bBG"
      },
      "outputs": [],
      "source": [
        "#1번 문제) 정수의 합/차/곱/펑균, 큰수 작은 수를 계산하여라.\n",
        "x = int(input(\"첫 번째 정수를 입력하시요: \"))\n",
        "y = int(input(\"두 번째 정수를 입력하시요: \"))\n",
        "print(\"두 수의 합:\", x+y)\n",
        "print(\"두 수의 차:\", x-y)\n",
        "print(\"두 수의 곱:\", x*y)\n",
        "print(\"두 수의 평균:\", (x+y)/2)\n",
        "print(\"큰수:\", max(x, y))\n",
        "print(\"작은수:\", min(x, y))"
      ]
    },
    {
      "cell_type": "code",
      "source": [
        "#2번 문제) 기둥의 부피를 계산하는 프로그램을 작성하시오.\n",
        "r = float(input(\"r값을 일력하시오.:\"))   #변수 r의 값을 사용자로부터 받는다. float형으로\n",
        "h = float(input(\"h값을 일력하시오.:\"))   #변수 r의 값을 사용자로부터 받는다. float형으로\n",
        "vol = 3.141592 * r**2 * h\n",
        "print(\"원기둥의 부피:\", vol)"
      ],
      "metadata": {
        "id": "mzSs-uRx0v77",
        "colab": {
          "base_uri": "https://localhost:8080/"
        },
        "outputId": "8971dc8f-c9f1-4bab-a703-54c4db47954d"
      },
      "execution_count": null,
      "outputs": [
        {
          "output_type": "stream",
          "name": "stdout",
          "text": [
            "r값을 일력하시오.: 1\n",
            "h값을 일력하시오.:11\n",
            "원기둥의 부피: 34.557512\n"
          ]
        }
      ]
    },
    {
      "cell_type": "code",
      "source": [
        "#3번 문제) 정수를 받아 정수의 자리수의 합을 계산하는 프로그램을 작성하시오.\n",
        "number = int(input(\"정수를 입력하시오:\"))\n",
        "sum = 0        # 변수 sum을 0으로 초기화\n",
        "sum = sum + number % 10\n",
        "number = number // 10\n",
        "sum = sum + number % 10\n",
        "number = number // 10\n",
        "sum = sum + number % 10\n",
        "number = number // 10\n",
        "sum = sum + number % 10\n",
        "number = number // 10\n",
        "print(\"자리수의 합:\", str(sum))"
      ],
      "metadata": {
        "id": "x-IpNIHe2cGM",
        "colab": {
          "base_uri": "https://localhost:8080/"
        },
        "outputId": "02951e81-ab3e-48ec-ef3e-87834f371ff1"
      },
      "execution_count": null,
      "outputs": [
        {
          "output_type": "stream",
          "name": "stdout",
          "text": [
            "정수를 입력하시오:12345\n",
            "자리수의 합: 14\n"
          ]
        }
      ]
    },
    {
      "cell_type": "code",
      "source": [
        "#4번 문제) 두 점의 좌표를 입력받아 두 점 사이의 거리를 계산하는 프로그램을 작성하시오.\n",
        "x1 = int(input(\"x1의 값:\"))\n",
        "y1 = int(input(\"y1의 값:\"))\n",
        "\n",
        "x2 = int(input(\"x2의 값:\"))\n",
        "y2 = int(input(\"y2의 값:\"))\n",
        "dist = ((x2-x1)**2 + (y2-y1)**2)**0.5\n",
        "print(\"두 점 사이의 거리=\", dist, \"입니다.\")"
      ],
      "metadata": {
        "id": "filgid_54HCE",
        "colab": {
          "base_uri": "https://localhost:8080/"
        },
        "outputId": "57d0697f-03fb-45db-f3fe-0827daaa0f33"
      },
      "execution_count": null,
      "outputs": [
        {
          "output_type": "stream",
          "name": "stdout",
          "text": [
            "x1의 값:0\n",
            "y1의 값:0\n",
            "x2의 값:100\n",
            "y2의 값:100\n",
            "두 점 사이의 거리= 141.4213562373095 입니다.\n"
          ]
        }
      ]
    },
    {
      "cell_type": "code",
      "source": [
        "#5번 문제) turtle그래픽을 이용하여 직각 삼각형을 만드시오.\n",
        "import turtle\n",
        "t=turtle.Turtle()\n",
        "t.shape('turtle')\n",
        "t.setheading(45)\n",
        "t.fd(141)\n",
        "t.setheading(0)\n",
        "t.rt(135)\n",
        "t.fd(141)\n",
        "t.setheading(0)\n",
        "t.fd(100)\n",
        "t.setheading(90)\n",
        "t.fd(100)\n",
        "t.screen.exitonclick()\n",
        "\n",
        "#5번 문제 별해\n",
        "import math\n",
        "x1 = int(input(\"x1:\"))\n",
        "y1 = int(input(\"y1:\"))\n",
        "x2 = int(input(\"x2:\"))\n",
        "y2 = int(input(\"y2:\"))\n",
        "dist = math.sqrt ((x2 - x1)**2 + (y2 - y1)**2)  #sqrt제곱근 함수로 **0.5를 사용하지 않아도 됌\n",
        "print(\"두점 사이의 거리는=\", dist)\n",
        "\n",
        "import turtle\n",
        "t=turtle.Turtle()\n",
        "t.shape('turtle')\n",
        "\n",
        "t.lt(45)\n",
        "t.fd(141)\n",
        "t.setheading(0)\n",
        "t.goto(0,0)\n",
        "\n",
        "t.fd(100)\n",
        "t.lt(90)\n",
        "t.fd(100)\n",
        "t.writ(\"점의 길이\"+str(dist))\n",
        "t.screen.exitonclick()  ##Visual Studid Code로 다시 실행 하기"
      ],
      "metadata": {
        "id": "hlLft3IR4HV0"
      },
      "execution_count": null,
      "outputs": []
    },
    {
      "cell_type": "code",
      "source": [
        "#6번 문제) 두 점을 입력받아 터틀그래픽을 이용하여 두 점을 연결하는 직선을 그리시오. \n",
        "import turtle\n",
        "t=turtle.Turtle()\n",
        "t.shape('turtle')\n"
      ],
      "metadata": {
        "id": "bKxYS7CK4H8N"
      },
      "execution_count": null,
      "outputs": []
    },
    {
      "cell_type": "code",
      "source": [
        "#7번 문제) time()을 호출하여 나누거나 나머지를 구해서 현재 시간의 시와 분을 계산하시오.\n",
        "import time\n",
        "fseconds = time.time()\n",
        "total_sec = int(fseconds)\n",
        "total_min = total_sec // 60\n",
        "minute = total_min % 60\n",
        "total_hour = total_min // 60\n",
        "hour = total_hour % 24\n",
        "\n",
        "print(\"현재시각은 (영국 그리니치 표준시간):\", str(hour) + \"시\", str(minute) + \"분\")"
      ],
      "metadata": {
        "colab": {
          "base_uri": "https://localhost:8080/"
        },
        "id": "2A_o2Ia040Jc",
        "outputId": "21ad732c-a443-443f-bb5e-37c4c05c0f01"
      },
      "execution_count": null,
      "outputs": [
        {
          "output_type": "stream",
          "name": "stdout",
          "text": [
            "현재시각은 (영국 그리니치 표준시간): 3시 47분\n"
          ]
        }
      ]
    },
    {
      "cell_type": "code",
      "source": [
        "#8번 문제) 움직이는 물체의 운동에너지를 계산하시오.\n",
        "weight = int(input(\"물체의 무게를 입력하시오(kg):\"))\n",
        "speed = int(input(\"물체의 속도를 입력하시오(m/s):\"))\n",
        "dist = (1/2 * weight * speed ** 2)\n",
        "print(\"물체는\", dist, \"(줄)의 에너지를 가지고 있다.\")"
      ],
      "metadata": {
        "colab": {
          "base_uri": "https://localhost:8080/"
        },
        "id": "QVr80reV56S9",
        "outputId": "cbaf1c2c-b72f-42d5-b8d3-d45726a70e97"
      },
      "execution_count": 1,
      "outputs": [
        {
          "output_type": "stream",
          "name": "stdout",
          "text": [
            "물체의 무게를 입력하시오(kg):10\n",
            "물체의 속도를 입력하시오(m/s):100\n",
            "물체는 50000.0 (줄)의 에너지를 가지고 있다.\n"
          ]
        }
      ]
    }
  ]
}